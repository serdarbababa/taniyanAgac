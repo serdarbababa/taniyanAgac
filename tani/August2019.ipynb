{
 "cells": [
  {
   "cell_type": "code",
   "execution_count": 3,
   "metadata": {
    "collapsed": true,
    "pycharm": {
     "is_executing": false
    }
   },
   "outputs": [],
   "source": [
    "import numpy as np\n",
    "from pywt import wavedec\n",
    "import matplotlib.pyplot as plt\n",
    "from networkx.drawing.nx_agraph import  graphviz_layout\n",
    "import networkx as nx\n",
    "import pandas as pd\n",
    "import seaborn as sns\n",
    "\n",
    "plt.rcParams['figure.figsize'] = [15, 10]     \n",
    "\n",
    "\n",
    "def genData(param, show = False):\n",
    "\ta=[]\n",
    "\tif param[0]==\"normal\":\n",
    "\t\tmu, sigma, s = param[1],   param[2], param[3]\n",
    "\t\ta= np.random.normal(mu, sigma, size=s)\n",
    "\telif param[0]=='uniform':\n",
    "\t\tmi, ma,s=param[1],   param[2], param[3]\n",
    "\t\ta= np.random.uniform(mi, ma, s)\n",
    "\telif param[0]==\"poisson\":\n",
    "\t\trate,s=param[1],   param[2]\n",
    "\t\ta = np.random.poisson(rate, s)\n",
    "\tif(show):\n",
    "\t\tcount, bins, ignored = plt.hist(s, 14, density=True)\n",
    "\treturn a\n",
    "def decodeTrainOperations(all,cikti=False):\n",
    "    sonuc = \"\"\n",
    "    for i in range(len(all)):\n",
    "        print(i, end=\"\\t\")\n",
    "        a = all[i]\n",
    "        \n",
    "        if(int(a[1])%4==0   ):\n",
    "            print(int(a[0]) , \"+\", int(a[2]) ,\"=\", int(a[0])  + int(a[2]))\n",
    "            if cikti:\n",
    "                sonuc = str(a[0])+\"+\"+str(a[2])+\"=\"+str( int(a[0])  + int(a[2]))\n",
    "                return sonuc\n",
    "       \n",
    "        elif(int(a[1])%4==1  ):            \n",
    "            print(int(a[0]) , \"-\", int(a[2]) ,\"=\", int(int(a[0])  - int(a[2])))            \n",
    "        \n",
    "        elif(int(a[1])%4==2   ):\n",
    "            print(int(a[0]) , \"*\", int(a[2]) ,\"=\", int(a[0])  * int(a[2]))\n",
    "                    \n",
    "        elif(int(a[1])%4==3 ):            \n",
    "            print(int(a[0]) , \"/\", int(a[2]) ,\"=\", int(int(a[0])  / int(a[2])))\n",
    "           \n",
    "        \n",
    "def getSamplePredef():\n",
    "    print(\"return sample data\")\n",
    "    signals = [[105, 220, 23, 99, 266, 190, 37, 5],\n",
    "                [334, 174, 134, -7, 19, 155, 93, 89],\n",
    "                [72, 96, 102, 151, -14, 171, 127, 127],\n",
    "                [15, 38, 283, 204, 232, 141, 121, 47],\n",
    "                [157, -60, 54, 54, 69, -27, -14, 101],\n",
    "                [0, 113, 74, 176, 68, 322, 135, 367],\n",
    "                [56, 114, 126, 181, 93, 41, 118, 76],\n",
    "                [164, 200, 351, 51, 36, 163, 298, -5],\n",
    "                [140, 124, 99, 34, -46, -5, 240, 136],\n",
    "                [113, 58, 130, 123, 171, 143, 109, 17],\n",
    "                [-8, 299, 65, 62, 130, 146, -43, 23],\n",
    "                [-96, 212, 56, 150, -55, 150, 151, 70],\n",
    "                [-22, 148, 219, 62, 108, 136, 198, 126],\n",
    "                [220, 84, 165, 167, 1, 227, 15, 144],\n",
    "                [200, 135, 165, 64, 100, 224, 244, 140],\n",
    "                [21, 183, -161, 65, 33, 257, -16, 112]]\n",
    "    return signals"
   ]
  },
  {
   "cell_type": "code",
   "execution_count": 4,
   "metadata": {
    "pycharm": {
     "is_executing": false,
     "name": "#%%\n"
    }
   },
   "outputs": [],
   "source": [
    "def generateOperationsSymbols(operations_count, symbol_list, Test = False, verbose= False):\n",
    "    ops_ids=[]\n",
    "    symbolSet = []\n",
    "    \n",
    "    for i in range(operations_count):\n",
    "        if(verbose):print(i, end=\"\\t\")\n",
    "        a = genData([\"uniform\", 0,10,4])    \n",
    "        a= [int(x) for x in a]\n",
    "        if(Test):\n",
    "            a[3]=0\n",
    "        go = True        \n",
    "        #a=[4, 5, 9, -5]\n",
    "        a[1]=a[1]%2\n",
    "        a[1]=0\n",
    "        rez = 0\n",
    "        \n",
    "        \n",
    "        if(int(a[1])%4==0   ): # operation is + \n",
    "            if ( a[0] + a[2] > 9 ):\n",
    "                go = False\n",
    "            else :\n",
    "                rez = a[0] + a[2]\n",
    "        elif(int(a[1])%4==1   ): # operation is -\n",
    "            if a[0] < a[2]  :\n",
    "                go = False                \n",
    "            else :\n",
    "                #print(\"here\", a[0] - a[2] , a[0] > a[2])\n",
    "                rez = a[0] - a[2]\n",
    "        elif(int(a[1])%4==2   ): # operation is *\n",
    "            if ( a[0] * a[2] >9  ):\n",
    "                go = False\n",
    "            else :                \n",
    "                rez = a[0] * a[2]               \n",
    "        elif(int(a[1])%4==3   ): # operation is -\n",
    "            if ( a[2] ==0 ):                \n",
    "                go = False\n",
    "            else :\n",
    "                rez = int(a[0] / a[2])\n",
    "        #rint(go)  \n",
    "        \n",
    "        if(a[0] > 5 or a[2]>5  or (a[0]==1 and a[2]==3) or (a[0]==2 and a[2]==3) ):\n",
    "            go=False\n",
    "        \n",
    "        if go:\n",
    "            if verbose : print(go , rez)\n",
    "            a[3]=rez\n",
    "            ops_ids.append(a)\n",
    "            symbolSet.append(symbol_list[a[0]] )\n",
    "            symbolSet.append(symbol_list[a[1]%4+10] )\n",
    "            symbolSet.append(symbol_list[a[2]] )\n",
    "            symbolSet.append(symbol_list[14] )\n",
    "            if(not Test):\n",
    "                symbolSet.append(symbol_list[a[3]] )\n",
    "            else:\n",
    "                symbolSet.append(symbol_list[15] )\n",
    "    return ops_ids, symbolSet"
   ]
  },
  {
   "cell_type": "code",
   "execution_count": 5,
   "metadata": {
    "pycharm": {
     "is_executing": false,
     "name": "#%%\n"
    }
   },
   "outputs": [
    {
     "name": "stdout",
     "output_type": "stream",
     "text": [
      "return sample data\n",
      "[0, 0, 1, 1, 0, 0, 1, 1]\n",
      "[0, 0, 0, 1, 1, 0, 1, 1]\n",
      "[1, 1, 0, 0, 1, 0, 0, 0]\n",
      "[1, 1, 0, 0, 0, 0, 0, 1]\n",
      "[0, 1, 1, 1, 1, 1, 1, 0]\n",
      "[1, 0, 1, 0, 1, 0, 0, 0]\n",
      "[1, 0, 0, 0, 1, 1, 0, 1]\n",
      "[0, 0, 0, 1, 1, 0, 0, 1]\n",
      "[0, 0, 1, 1, 1, 1, 0, 0]\n",
      "[0, 1, 0, 0, 0, 0, 0, 1]\n",
      "[1, 0, 1, 1, 0, 0, 1, 1]\n",
      "[1, 0, 1, 0, 1, 0, 0, 1]\n",
      "[1, 0, 0, 1, 0, 0, 0, 0]\n",
      "[0, 1, 0, 0, 1, 0, 1, 0]\n",
      "[0, 0, 0, 1, 0, 0, 0, 0]\n",
      "[1, 0, 1, 1, 1, 0, 1, 0]\n"
     ]
    }
   ],
   "source": [
    "a= getSamplePredef()\n",
    "b=[]\n",
    "for i in a:\n",
    "    b.append([])\n",
    "    for j in i:\n",
    "        b[-1].append(int(j<100))\n",
    "for i in b:\n",
    "    print(i)\n",
    "c=np.array(b)     "
   ]
  },
  {
   "cell_type": "code",
   "execution_count": null,
   "metadata": {
    "pycharm": {
     "name": "#%%\n"
    }
   },
   "outputs": [],
   "source": [
    "\n"
   ]
  }
 ],
 "metadata": {
  "kernelspec": {
   "display_name": "Python 3",
   "language": "python",
   "name": "python3"
  },
  "language_info": {
   "codemirror_mode": {
    "name": "ipython",
    "version": 3
   },
   "file_extension": ".py",
   "mimetype": "text/x-python",
   "name": "python",
   "nbconvert_exporter": "python",
   "pygments_lexer": "ipython3",
   "version": "3.7.2"
  },
  "pycharm": {
   "stem_cell": {
    "cell_type": "raw",
    "metadata": {
     "collapsed": false
    },
    "source": []
   }
  }
 },
 "nbformat": 4,
 "nbformat_minor": 1
}
